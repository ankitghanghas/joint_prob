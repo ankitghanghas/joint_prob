{
 "cells": [
  {
   "cell_type": "code",
   "execution_count": null,
   "metadata": {},
   "outputs": [],
   "source": [
    "import matplotlib.pyplot as plt\n",
    "import pandas as pd\n",
    "import matplotlib\n",
    "import arcpy"
   ]
  },
  {
   "cell_type": "code",
   "execution_count": null,
   "metadata": {},
   "outputs": [],
   "source": [
    "#flowline=r\"C:\\Users\\aghangha\\Documents\\ratingcurve\\nhdv2\\NHDPlusNationalData\\NHDPlusV21_National_Seamless_Flattened_Lower48.gdb\\NHDFlowline_Network\"\n",
    "flowline=r\"E:\\copula\\in_shapefile\\nhd\\indiana_nhd.shp\"\n",
    "comid_values, length_km, stream_ord,ToNode,drainArea_sqkm, vpuid, rpuid =[str(int(row[0])) for row in arcpy.da.SearchCursor(flowline,['COMID'])],[row[0] for row in arcpy.da.SearchCursor(flowline,['LENGTHKM'])],[row[0] for row in arcpy.da.SearchCursor(flowline,['StreamOrde'])],[str(int(row[0])) for row in arcpy.da.SearchCursor(flowline,['ToNode'])],[row[0] for row in arcpy.da.SearchCursor(flowline,['TotDaSqKM'])],[row[0] for row in arcpy.da.SearchCursor(flowline,['VPUID'])],[row[0] for row in arcpy.da.SearchCursor(flowline,['RPUID'])]\n",
    "df_stream=pd.DataFrame()\n",
    "df_stream['COMID']=comid_values; df_stream['LENGTH']=length_km;df_stream['StreamOrder']=stream_ord; df_stream['ToNode']=ToNode;df_stream['DrainArea_sqkm']=drainArea_sqkm; df_stream['VPUID']=vpuid;df_stream['RPUID']=rpuid \n"
   ]
  },
  {
   "cell_type": "code",
   "execution_count": null,
   "metadata": {},
   "outputs": [],
   "source": [
    "df=pd.read_csv(r\"E:\\copula\\nwm_outputs\\tau_with_DA_ratio_80_08_AMax_statistically_sig.csv\",index_col=0)\n",
    "data=[df.POM_tau, df.POT_tau]\n",
    "\n",
    "labels=['POM','POT']\n",
    "plt.rcParams.update({'font.size': 18})\n",
    "fig=plt.figure(figsize=(5,5))\n",
    "\n",
    "ax=fig.add_axes([0,0,1,1])\n",
    "\n",
    "bplot = ax.boxplot(data,\n",
    "                     vert=True,  # vertical box alignment\n",
    "                     patch_artist=True,  # fill with color\n",
    "                     labels=labels,\n",
    "                     showmeans=True,\n",
    "                     meanprops={'marker':'*',\n",
    "                                'markerfacecolor':'white',\n",
    "                                'markeredgecolor':'black',\n",
    "                                'markersize':'15'})\n",
    "\n",
    "ax.set_title('Kendalls Tau for confluences greater than 1 sqkm',pad=20)\n",
    "colors = ['darksalmon', 'lightsteelblue']\n",
    "for patch, color in zip(bplot['boxes'],colors):\n",
    "    patch.set_facecolor(color)\n",
    "\n",
    "for median in bplot['medians']:\n",
    "    median.set(color ='black',\n",
    "               linewidth = 3)\n",
    "plt.grid(axis='y',linewidth=1)\n",
    "plt.ylabel(\"Kendall's Tau\", size=22)\n",
    "plt.show()\n",
    "print(\"Indiana POM Median:  \" + str(df.POM_tau.mean()) )\n",
    "print(\"Indiana POT Median:  \" + str(df.POT_tau.mean()) )"
   ]
  },
  {
   "cell_type": "code",
   "execution_count": null,
   "metadata": {},
   "outputs": [],
   "source": [
    "df.POT_tau.quantile([0.25,0.5,0.75])"
   ]
  },
  {
   "cell_type": "code",
   "execution_count": null,
   "metadata": {},
   "outputs": [],
   "source": [
    "df.POM_tau.quantile([0.25,0.5,0.75])"
   ]
  },
  {
   "cell_type": "code",
   "execution_count": null,
   "metadata": {},
   "outputs": [],
   "source": [
    "region_list=['1','2','3','4','5','6','7','8']\n",
    "\n",
    "df1=pd.read_csv(r\"E:\\copula\\nwm_outputs\\tau_split_into_regions\\Region_1_tau_table.csv\",index_col=0)\n",
    "df2=pd.read_csv(r\"E:\\copula\\nwm_outputs\\tau_split_into_regions\\Region_2_tau_table.csv\",index_col=0)\n",
    "df3=pd.read_csv(r\"E:\\copula\\nwm_outputs\\tau_split_into_regions\\Region_3_tau_table.csv\",index_col=0)\n",
    "df4=pd.read_csv(r\"E:\\copula\\nwm_outputs\\tau_split_into_regions\\Region_4_tau_table.csv\",index_col=0)\n",
    "df5=pd.read_csv(r\"E:\\copula\\nwm_outputs\\tau_split_into_regions\\Region_5_tau_table.csv\",index_col=0)\n",
    "df6=pd.read_csv(r\"E:\\copula\\nwm_outputs\\tau_split_into_regions\\Region_6_tau_table.csv\",index_col=0)\n",
    "df7=pd.read_csv(r\"E:\\copula\\nwm_outputs\\tau_split_into_regions\\Region_7_tau_table.csv\",index_col=0)\n",
    "df8=pd.read_csv(r\"E:\\copula\\nwm_outputs\\tau_split_into_regions\\Region_8_tau_table.csv\",index_col=0)\n",
    "\n",
    "d1=[df1.POM_tau,df2.POM_tau,df3.POM_tau,df4.POM_tau,df5.POM_tau,df6.POM_tau,df7.POM_tau,df8.POM_tau]\n",
    "\n",
    "fig, (ax) = plt.subplots(1, 1,figsize=(15,7))\n",
    "\n",
    "plt.rcParams.update({'font.size': 22})\n",
    "\n",
    "bplot = ax.boxplot(d1,\n",
    "                     vert=True,  # vertical box alignment\n",
    "                     patch_artist=True,  # fill with color\n",
    "                     labels=region_list,\n",
    "                     showmeans=True,\n",
    "                     meanprops={'marker':'*',\n",
    "                                'markerfacecolor':'white',\n",
    "                                'markeredgecolor':'black',\n",
    "                                'markersize':'15'})\n",
    "\n",
    "ax.set_title('Peak on Mainstream',pad=20)\n",
    "colors=['burlywood','lavenderblush','gold','lemonchiffon','khaki','darkturquoise','mediumorchid','seashell']\n",
    "for patch, color in zip(bplot['boxes'],colors):\n",
    "    patch.set_facecolor(color)\n",
    "\n",
    "for median in bplot['medians']:\n",
    "    median.set(color ='black',\n",
    "               linewidth = 3)\n",
    "plt.grid(axis='y',linewidth=1)\n",
    "plt.ylabel(\"Kendall's Tau\", size=26)\n",
    "plt.xlabel(\"Region\", size=26)\n",
    "plt.show()"
   ]
  },
  {
   "cell_type": "code",
   "execution_count": null,
   "metadata": {},
   "outputs": [],
   "source": [
    "d2=[df1.POT_tau,df2.POT_tau,df3.POT_tau,df4.POT_tau,df5.POT_tau,df6.POT_tau,df7.POT_tau,df8.POT_tau]\n",
    "fig, (ax) = plt.subplots(1, 1,figsize=(15,7))\n",
    "\n",
    "\n",
    "\n",
    "bplot = ax.boxplot(d2,\n",
    "                     vert=True,  # vertical box alignment\n",
    "                     patch_artist=True,  # fill with color\n",
    "                     labels=region_list,\n",
    "                     showmeans=True,\n",
    "                     meanprops={'marker':'*',\n",
    "                                'markerfacecolor':'white',\n",
    "                                'markeredgecolor':'black',\n",
    "                                'markersize':'15'})\n",
    "\n",
    "ax.set_title('Peak on Tributary',pad=20)\n",
    "colors=['burlywood','lavenderblush','gold','lemonchiffon','khaki','darkturquoise','mediumorchid','seashell']\n",
    "for patch, color in zip(bplot['boxes'],colors):\n",
    "    patch.set_facecolor(color)\n",
    "\n",
    "for median in bplot['medians']:\n",
    "    median.set(color ='black',\n",
    "               linewidth = 3)\n",
    "plt.grid(axis='y',linewidth=1)\n",
    "plt.ylabel(\"Kendall's Tau\", size=26)\n",
    "plt.xlabel(\"Region\", size=26)\n",
    "plt.show()"
   ]
  },
  {
   "cell_type": "code",
   "execution_count": null,
   "metadata": {},
   "outputs": [],
   "source": [
    "\n",
    "data1=[df[(df.DRAIN_ratio>1) & (df.DRAIN_ratio<=10)]['POM_tau'],df[(df.DRAIN_ratio>10) & (df.DRAIN_ratio<=100)]['POM_tau'],df[(df.DRAIN_ratio>100) & (df.DRAIN_ratio<=1000)]['POM_tau'],df[(df.DRAIN_ratio>1000) & (df.DRAIN_ratio<=10000)]['POM_tau'], df[(df.DRAIN_ratio>10000)]['POM_tau']]\n",
    "data2=[df[(df.DRAIN_ratio>1) & (df.DRAIN_ratio<=10)]['POT_tau'],df[(df.DRAIN_ratio>10) & (df.DRAIN_ratio<=100)]['POT_tau'],df[(df.DRAIN_ratio>100) & (df.DRAIN_ratio<=1000)]['POT_tau'],df[(df.DRAIN_ratio>1000) & (df.DRAIN_ratio<=10000)]['POT_tau'], df[(df.DRAIN_ratio>10000)]['POT_tau']]\n",
    "\n",
    "\n",
    "fig,(ax1,ax2)=plt.subplots(nrows=1,ncols=2,figsize=(22,7))\n",
    "fig.tight_layout()\n",
    "plt.rcParams.update({'font.size': 18})\n",
    "labels=['1-10','10-100','100-1000','1000-10000','>10000']\n",
    "bplot1=ax1.boxplot(data1,\n",
    "                     vert=True,  # vertical box alignment\n",
    "                     patch_artist=True,  # fill with color\n",
    "                     labels=labels,\n",
    "                     showmeans=True,\n",
    "                     meanprops={'marker':'*',\n",
    "                                'markerfacecolor':'white',\n",
    "                                'markeredgecolor':'black',\n",
    "                                'markersize':'15'})\n",
    "ax1.set_title('Peak on Mainstream')\n",
    "ax2.set_title('Peak on Tributary')\n",
    "colors=['darkturquoise','khaki','seashell','lightsteelblue','plum']\n",
    "bplot2=ax2.boxplot(data2,\n",
    "                     vert=True,  # vertical box alignment\n",
    "                     patch_artist=True,  # fill with color\n",
    "                     labels=labels,\n",
    "                     showmeans=True,\n",
    "                     meanprops={'marker':'*',\n",
    "                                'markerfacecolor':'white',\n",
    "                                'markeredgecolor':'black',\n",
    "                                'markersize':'15'})\n",
    "for bplot in (bplot1,bplot2):\n",
    "    for patch,color in zip(bplot['boxes'],colors):\n",
    "        patch.set_facecolor(color)\n",
    "for bplot in (bplot1,bplot2):\n",
    "    for median in bplot['medians']:\n",
    "        median.set(color ='black',\n",
    "                linewidth = 1.5)\n",
    "for ax in [ax1,ax2]:\n",
    "    ax.yaxis.grid('True')\n",
    "    ax.set_xlabel('Drainage Area Ratio',labelpad=20,size=22)\n",
    "    ax.set_ylabel(\"Kendall's Tau\",size=22)\n"
   ]
  },
  {
   "cell_type": "code",
   "execution_count": null,
   "metadata": {},
   "outputs": [],
   "source": [
    "df.RCH=df.RCH.astype('int').astype('str')\n",
    "merged_1=pd.merge(df,df_stream,how=\"inner\", left_on=\"RCH\",right_on=\"COMID\")"
   ]
  },
  {
   "cell_type": "code",
   "execution_count": null,
   "metadata": {},
   "outputs": [],
   "source": [
    "merged_1"
   ]
  },
  {
   "cell_type": "code",
   "execution_count": null,
   "metadata": {},
   "outputs": [],
   "source": [
    "df=pd.read_csv(r\"E:\\copula\\nwm_outputs\\tau_with_DA_ratio_80_08_AMax_statistically_sig.csv\",index_col=0)"
   ]
  },
  {
   "cell_type": "code",
   "execution_count": null,
   "metadata": {},
   "outputs": [],
   "source": [
    "df.RCH=df.RCH.astype('int').astype('str')"
   ]
  },
  {
   "cell_type": "code",
   "execution_count": null,
   "metadata": {},
   "outputs": [],
   "source": [
    "df.RCH"
   ]
  },
  {
   "cell_type": "code",
   "execution_count": null,
   "metadata": {},
   "outputs": [],
   "source": []
  }
 ],
 "metadata": {
  "kernelspec": {
   "display_name": "Python 3.6.9",
   "language": "python",
   "name": "python3"
  },
  "language_info": {
   "codemirror_mode": {
    "name": "ipython",
    "version": 3
   },
   "file_extension": ".py",
   "mimetype": "text/x-python",
   "name": "python",
   "nbconvert_exporter": "python",
   "pygments_lexer": "ipython3",
   "version": "3.6.9"
  },
  "orig_nbformat": 4,
  "vscode": {
   "interpreter": {
    "hash": "56537a34128444a4028febb27fdb8549b58598cbf5bb4c21165958594f7d7be1"
   }
  }
 },
 "nbformat": 4,
 "nbformat_minor": 2
}
